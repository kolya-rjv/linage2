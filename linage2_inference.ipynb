{
 "cells": [
  {
   "cell_type": "code",
   "execution_count": 1,
   "id": "788d9c85-a64b-4207-8250-493be82df301",
   "metadata": {},
   "outputs": [],
   "source": [
    "import pandas as pd\n",
    "import joblib\n",
    "\n",
    "from src import *"
   ]
  },
  {
   "cell_type": "code",
   "execution_count": 2,
   "id": "a07b7cde-6361-44bd-bd81-0aad6c08d995",
   "metadata": {},
   "outputs": [],
   "source": [
    "## First, read parameter file. This file contains some parameters that can be changed.\n",
    "paraFile = \"paraInit.csv\"\n",
    "paras = pd.read_csv(paraFile, sep=\",\", header=0)\n",
    "useDerived = paras.loc[paras[\"pName\"] == \"derivedFeatFlag\", \"pValue\"].values[0]\n",
    "verbose = 0  ## Sets level of verbosity for some functions - 0 means not very\n"
   ]
  },
  {
   "cell_type": "code",
   "execution_count": 3,
   "id": "63f5ef09-c2df-4e1c-82c7-2383785bf545",
   "metadata": {},
   "outputs": [
    {
     "name": "stdout",
     "output_type": "stream",
     "text": [
      "> Digitizing cotinine data ... Done\n",
      "\n"
     ]
    }
   ],
   "source": [
    "userDataFile = \"userData.csv\"\n",
    "userDataMat = pd.read_csv(userDataFile)\n",
    "userDataMat = digiCot(userDataMat)"
   ]
  },
  {
   "cell_type": "code",
   "execution_count": 4,
   "id": "dbaf8504-9b63-4cc0-8524-2d450b794c06",
   "metadata": {},
   "outputs": [],
   "source": [
    "codeBookFile = \"codebook_linAge2.csv\"\n",
    "codeBook = pd.read_csv(codeBookFile)\n",
    "\n",
    "incList = markIncsFromCodeBook(codeBook)\n",
    "\n",
    "boxCox_lam = pd.read_csv(\"logNoLog.csv\").iloc[1:2, :]\n",
    "\n",
    "\n",
    "dataMat_trans = pd.read_csv('artifacts/dataMat_trans.csv')\n",
    "qDataMat = pd.read_csv('artifacts/qDataMat.csv')\n",
    "\n",
    "vMatDat99_F = pd.read_csv(\"vMatDat99_F_pre.csv\").values\n",
    "vMatDat99_M = pd.read_csv(\"vMatDat99_M_pre.csv\").values"
   ]
  },
  {
   "cell_type": "code",
   "execution_count": 5,
   "id": "99a0d990-cdc4-4bf2-8af9-43e76c02cf33",
   "metadata": {},
   "outputs": [],
   "source": [
    "dataFileName = \"mergedDataNHANES9902.csv\"\n",
    "masterData = pd.read_csv(dataFileName)\n",
    "dataMat = dropCols(masterData, incList) \n",
    "qDataMat = qDataMatGen(masterData, incList)\n",
    "\n",
    "coxCovsTrainM = pd.read_csv('artifacts/coxCovsTrainM.csv')\n",
    "coxCovsTrainF = pd.read_csv('artifacts/coxCovsTrainF.csv')"
   ]
  },
  {
   "cell_type": "code",
   "execution_count": 6,
   "id": "abe59bc5-47da-4078-9f9d-10e5baa2faf2",
   "metadata": {},
   "outputs": [],
   "source": [
    "# Load\n",
    "coxModelF = joblib.load(\"artifacts/cox_full_F.joblib\")\n",
    "nullModelF = joblib.load(\"artifacts/cox_null_F.joblib\")\n",
    "\n",
    "coxModelM = joblib.load(\"artifacts/cox_full_M.joblib\")\n",
    "nullModelM = joblib.load(\"artifacts/cox_null_M.joblib\")"
   ]
  },
  {
   "cell_type": "code",
   "execution_count": 7,
   "id": "e0d9c730-96f6-4288-a610-9eee6505e289",
   "metadata": {},
   "outputs": [],
   "source": [
    "dataMat_user = dropCols(userDataMat, incList)  ## User data matrix for clock\n",
    "\n",
    "\n",
    "qDataMat_user = qDataMatGen(userDataMat, incList)\n",
    "\n",
    "sex_user = qDataMat_user[\"RIAGENDR\"].values\n",
    "initAge_user = qDataMat_user[\"RIDAGEEX\"].values"
   ]
  },
  {
   "cell_type": "code",
   "execution_count": 8,
   "id": "c264740b-950f-44ef-a36e-b930022ce0a9",
   "metadata": {},
   "outputs": [],
   "source": [
    "dataMat_user_R = pd.read_csv('dataMat_userR.csv')\n",
    "qDataMat_user_R = pd.read_csv('qDataMat_user_R.csv')"
   ]
  },
  {
   "cell_type": "code",
   "execution_count": 9,
   "id": "55bb91b3-b152-42a0-95da-7eec6a5bc7f9",
   "metadata": {},
   "outputs": [],
   "source": [
    "pd.testing.assert_frame_equal(qDataMat_user, qDataMat_user_R[:2], check_dtype=False)"
   ]
  },
  {
   "cell_type": "code",
   "execution_count": 10,
   "id": "13aadb7c-e9cd-4c9a-a263-d1deef7356fa",
   "metadata": {},
   "outputs": [
    {
     "data": {
      "text/html": [
       "<div>\n",
       "<style scoped>\n",
       "    .dataframe tbody tr th:only-of-type {\n",
       "        vertical-align: middle;\n",
       "    }\n",
       "\n",
       "    .dataframe tbody tr th {\n",
       "        vertical-align: top;\n",
       "    }\n",
       "\n",
       "    .dataframe thead th {\n",
       "        text-align: right;\n",
       "    }\n",
       "</style>\n",
       "<table border=\"1\" class=\"dataframe\">\n",
       "  <thead>\n",
       "    <tr style=\"text-align: right;\">\n",
       "      <th></th>\n",
       "      <th>SEQN</th>\n",
       "      <th>BPXPLS</th>\n",
       "      <th>BPXSAR</th>\n",
       "      <th>BPXDAR</th>\n",
       "      <th>BMXBMI</th>\n",
       "      <th>URXUMASI</th>\n",
       "      <th>URXUCRSI</th>\n",
       "      <th>LBDIRNSI</th>\n",
       "      <th>LBDTIBSI</th>\n",
       "      <th>LBXPCT</th>\n",
       "      <th>...</th>\n",
       "      <th>LBDSCRSI</th>\n",
       "      <th>LBXSNASI</th>\n",
       "      <th>LBXSKSI</th>\n",
       "      <th>LBXSCLSI</th>\n",
       "      <th>LBDSGBSI</th>\n",
       "      <th>fs1Score</th>\n",
       "      <th>fs2Score</th>\n",
       "      <th>fs3Score</th>\n",
       "      <th>LDLV</th>\n",
       "      <th>crAlbRat</th>\n",
       "    </tr>\n",
       "  </thead>\n",
       "  <tbody>\n",
       "    <tr>\n",
       "      <th>0</th>\n",
       "      <td>8881</td>\n",
       "      <td>68</td>\n",
       "      <td>111</td>\n",
       "      <td>50</td>\n",
       "      <td>31.31</td>\n",
       "      <td>96.9</td>\n",
       "      <td>18210</td>\n",
       "      <td>19.87</td>\n",
       "      <td>54.95</td>\n",
       "      <td>36.2</td>\n",
       "      <td>...</td>\n",
       "      <td>79.6</td>\n",
       "      <td>142.4</td>\n",
       "      <td>4.35</td>\n",
       "      <td>101.6</td>\n",
       "      <td>36</td>\n",
       "      <td>0.227273</td>\n",
       "      <td>0</td>\n",
       "      <td>3</td>\n",
       "      <td>2.6746</td>\n",
       "      <td>47.040771</td>\n",
       "    </tr>\n",
       "    <tr>\n",
       "      <th>1</th>\n",
       "      <td>9106</td>\n",
       "      <td>50</td>\n",
       "      <td>154</td>\n",
       "      <td>74</td>\n",
       "      <td>23.13</td>\n",
       "      <td>8.9</td>\n",
       "      <td>13702</td>\n",
       "      <td>28.64</td>\n",
       "      <td>61.04</td>\n",
       "      <td>46.9</td>\n",
       "      <td>...</td>\n",
       "      <td>70.7</td>\n",
       "      <td>139.4</td>\n",
       "      <td>4.08</td>\n",
       "      <td>100.8</td>\n",
       "      <td>26</td>\n",
       "      <td>0.090909</td>\n",
       "      <td>0</td>\n",
       "      <td>2</td>\n",
       "      <td>3.6980</td>\n",
       "      <td>5.742046</td>\n",
       "    </tr>\n",
       "    <tr>\n",
       "      <th>2</th>\n",
       "      <td>100002</td>\n",
       "      <td>68</td>\n",
       "      <td>98</td>\n",
       "      <td>56</td>\n",
       "      <td>24.90</td>\n",
       "      <td>9.1</td>\n",
       "      <td>12818</td>\n",
       "      <td>11.64</td>\n",
       "      <td>71.60</td>\n",
       "      <td>16.3</td>\n",
       "      <td>...</td>\n",
       "      <td>61.9</td>\n",
       "      <td>144.1</td>\n",
       "      <td>4.06</td>\n",
       "      <td>104.5</td>\n",
       "      <td>27</td>\n",
       "      <td>0.136364</td>\n",
       "      <td>0</td>\n",
       "      <td>3</td>\n",
       "      <td>3.9104</td>\n",
       "      <td>6.275983</td>\n",
       "    </tr>\n",
       "    <tr>\n",
       "      <th>3</th>\n",
       "      <td>100005</td>\n",
       "      <td>66</td>\n",
       "      <td>122</td>\n",
       "      <td>83</td>\n",
       "      <td>29.10</td>\n",
       "      <td>6.1</td>\n",
       "      <td>15205</td>\n",
       "      <td>25.24</td>\n",
       "      <td>60.86</td>\n",
       "      <td>41.5</td>\n",
       "      <td>...</td>\n",
       "      <td>70.7</td>\n",
       "      <td>137.5</td>\n",
       "      <td>4.63</td>\n",
       "      <td>98.9</td>\n",
       "      <td>28</td>\n",
       "      <td>0.136364</td>\n",
       "      <td>0</td>\n",
       "      <td>3</td>\n",
       "      <td>5.3600</td>\n",
       "      <td>3.546533</td>\n",
       "    </tr>\n",
       "    <tr>\n",
       "      <th>4</th>\n",
       "      <td>100007</td>\n",
       "      <td>58</td>\n",
       "      <td>123</td>\n",
       "      <td>81</td>\n",
       "      <td>29.39</td>\n",
       "      <td>6.7</td>\n",
       "      <td>11315</td>\n",
       "      <td>17.18</td>\n",
       "      <td>62.29</td>\n",
       "      <td>27.6</td>\n",
       "      <td>...</td>\n",
       "      <td>53.0</td>\n",
       "      <td>143.2</td>\n",
       "      <td>4.25</td>\n",
       "      <td>101.5</td>\n",
       "      <td>36</td>\n",
       "      <td>0.090909</td>\n",
       "      <td>0</td>\n",
       "      <td>0</td>\n",
       "      <td>3.4812</td>\n",
       "      <td>5.234568</td>\n",
       "    </tr>\n",
       "    <tr>\n",
       "      <th>5</th>\n",
       "      <td>100010</td>\n",
       "      <td>58</td>\n",
       "      <td>142</td>\n",
       "      <td>95</td>\n",
       "      <td>30.94</td>\n",
       "      <td>11.1</td>\n",
       "      <td>24664</td>\n",
       "      <td>14.86</td>\n",
       "      <td>52.98</td>\n",
       "      <td>28.0</td>\n",
       "      <td>...</td>\n",
       "      <td>79.6</td>\n",
       "      <td>140.9</td>\n",
       "      <td>4.28</td>\n",
       "      <td>106.3</td>\n",
       "      <td>34</td>\n",
       "      <td>0.090909</td>\n",
       "      <td>0</td>\n",
       "      <td>3</td>\n",
       "      <td>2.2152</td>\n",
       "      <td>3.978506</td>\n",
       "    </tr>\n",
       "    <tr>\n",
       "      <th>6</th>\n",
       "      <td>100013</td>\n",
       "      <td>102</td>\n",
       "      <td>130</td>\n",
       "      <td>66</td>\n",
       "      <td>25.57</td>\n",
       "      <td>42.3</td>\n",
       "      <td>7602</td>\n",
       "      <td>13.43</td>\n",
       "      <td>72.50</td>\n",
       "      <td>18.5</td>\n",
       "      <td>...</td>\n",
       "      <td>61.9</td>\n",
       "      <td>142.0</td>\n",
       "      <td>3.89</td>\n",
       "      <td>99.3</td>\n",
       "      <td>26</td>\n",
       "      <td>0.136364</td>\n",
       "      <td>2</td>\n",
       "      <td>4</td>\n",
       "      <td>6.1130</td>\n",
       "      <td>49.189579</td>\n",
       "    </tr>\n",
       "    <tr>\n",
       "      <th>7</th>\n",
       "      <td>100014</td>\n",
       "      <td>72</td>\n",
       "      <td>136</td>\n",
       "      <td>61</td>\n",
       "      <td>27.33</td>\n",
       "      <td>33.3</td>\n",
       "      <td>17415</td>\n",
       "      <td>11.64</td>\n",
       "      <td>68.74</td>\n",
       "      <td>16.9</td>\n",
       "      <td>...</td>\n",
       "      <td>88.4</td>\n",
       "      <td>141.9</td>\n",
       "      <td>4.02</td>\n",
       "      <td>106.4</td>\n",
       "      <td>34</td>\n",
       "      <td>0.045455</td>\n",
       "      <td>0</td>\n",
       "      <td>3</td>\n",
       "      <td>3.3088</td>\n",
       "      <td>16.903684</td>\n",
       "    </tr>\n",
       "    <tr>\n",
       "      <th>8</th>\n",
       "      <td>100024</td>\n",
       "      <td>82</td>\n",
       "      <td>114</td>\n",
       "      <td>71</td>\n",
       "      <td>25.93</td>\n",
       "      <td>3.8</td>\n",
       "      <td>5216</td>\n",
       "      <td>17.54</td>\n",
       "      <td>66.77</td>\n",
       "      <td>26.3</td>\n",
       "      <td>...</td>\n",
       "      <td>53.0</td>\n",
       "      <td>136.9</td>\n",
       "      <td>4.39</td>\n",
       "      <td>100.3</td>\n",
       "      <td>29</td>\n",
       "      <td>0.227273</td>\n",
       "      <td>1</td>\n",
       "      <td>2</td>\n",
       "      <td>2.7706</td>\n",
       "      <td>6.440308</td>\n",
       "    </tr>\n",
       "    <tr>\n",
       "      <th>9</th>\n",
       "      <td>100025</td>\n",
       "      <td>74</td>\n",
       "      <td>119</td>\n",
       "      <td>85</td>\n",
       "      <td>37.60</td>\n",
       "      <td>11.2</td>\n",
       "      <td>19094</td>\n",
       "      <td>13.43</td>\n",
       "      <td>70.53</td>\n",
       "      <td>19.0</td>\n",
       "      <td>...</td>\n",
       "      <td>44.2</td>\n",
       "      <td>136.3</td>\n",
       "      <td>4.37</td>\n",
       "      <td>102.2</td>\n",
       "      <td>31</td>\n",
       "      <td>0.136364</td>\n",
       "      <td>2</td>\n",
       "      <td>5</td>\n",
       "      <td>2.2746</td>\n",
       "      <td>5.185393</td>\n",
       "    </tr>\n",
       "    <tr>\n",
       "      <th>10</th>\n",
       "      <td>100029</td>\n",
       "      <td>118</td>\n",
       "      <td>124</td>\n",
       "      <td>71</td>\n",
       "      <td>36.94</td>\n",
       "      <td>208.5</td>\n",
       "      <td>30586</td>\n",
       "      <td>5.19</td>\n",
       "      <td>70.17</td>\n",
       "      <td>8.7</td>\n",
       "      <td>...</td>\n",
       "      <td>79.6</td>\n",
       "      <td>141.5</td>\n",
       "      <td>4.12</td>\n",
       "      <td>98.4</td>\n",
       "      <td>32</td>\n",
       "      <td>0.409091</td>\n",
       "      <td>4</td>\n",
       "      <td>3</td>\n",
       "      <td>3.9262</td>\n",
       "      <td>60.262061</td>\n",
       "    </tr>\n",
       "    <tr>\n",
       "      <th>11</th>\n",
       "      <td>100033</td>\n",
       "      <td>78</td>\n",
       "      <td>107</td>\n",
       "      <td>71</td>\n",
       "      <td>36.16</td>\n",
       "      <td>5.4</td>\n",
       "      <td>11934</td>\n",
       "      <td>16.65</td>\n",
       "      <td>58.71</td>\n",
       "      <td>28.4</td>\n",
       "      <td>...</td>\n",
       "      <td>53.0</td>\n",
       "      <td>137.6</td>\n",
       "      <td>3.70</td>\n",
       "      <td>102.1</td>\n",
       "      <td>35</td>\n",
       "      <td>0.136364</td>\n",
       "      <td>0</td>\n",
       "      <td>2</td>\n",
       "      <td>3.4678</td>\n",
       "      <td>4.000077</td>\n",
       "    </tr>\n",
       "  </tbody>\n",
       "</table>\n",
       "<p>12 rows × 60 columns</p>\n",
       "</div>"
      ],
      "text/plain": [
       "      SEQN  BPXPLS  BPXSAR  BPXDAR  BMXBMI  URXUMASI  URXUCRSI  LBDIRNSI  \\\n",
       "0     8881      68     111      50   31.31      96.9     18210     19.87   \n",
       "1     9106      50     154      74   23.13       8.9     13702     28.64   \n",
       "2   100002      68      98      56   24.90       9.1     12818     11.64   \n",
       "3   100005      66     122      83   29.10       6.1     15205     25.24   \n",
       "4   100007      58     123      81   29.39       6.7     11315     17.18   \n",
       "5   100010      58     142      95   30.94      11.1     24664     14.86   \n",
       "6   100013     102     130      66   25.57      42.3      7602     13.43   \n",
       "7   100014      72     136      61   27.33      33.3     17415     11.64   \n",
       "8   100024      82     114      71   25.93       3.8      5216     17.54   \n",
       "9   100025      74     119      85   37.60      11.2     19094     13.43   \n",
       "10  100029     118     124      71   36.94     208.5     30586      5.19   \n",
       "11  100033      78     107      71   36.16       5.4     11934     16.65   \n",
       "\n",
       "    LBDTIBSI  LBXPCT  ...  LBDSCRSI  LBXSNASI  LBXSKSI  LBXSCLSI  LBDSGBSI  \\\n",
       "0      54.95    36.2  ...      79.6     142.4     4.35     101.6        36   \n",
       "1      61.04    46.9  ...      70.7     139.4     4.08     100.8        26   \n",
       "2      71.60    16.3  ...      61.9     144.1     4.06     104.5        27   \n",
       "3      60.86    41.5  ...      70.7     137.5     4.63      98.9        28   \n",
       "4      62.29    27.6  ...      53.0     143.2     4.25     101.5        36   \n",
       "5      52.98    28.0  ...      79.6     140.9     4.28     106.3        34   \n",
       "6      72.50    18.5  ...      61.9     142.0     3.89      99.3        26   \n",
       "7      68.74    16.9  ...      88.4     141.9     4.02     106.4        34   \n",
       "8      66.77    26.3  ...      53.0     136.9     4.39     100.3        29   \n",
       "9      70.53    19.0  ...      44.2     136.3     4.37     102.2        31   \n",
       "10     70.17     8.7  ...      79.6     141.5     4.12      98.4        32   \n",
       "11     58.71    28.4  ...      53.0     137.6     3.70     102.1        35   \n",
       "\n",
       "    fs1Score  fs2Score  fs3Score    LDLV   crAlbRat  \n",
       "0   0.227273         0         3  2.6746  47.040771  \n",
       "1   0.090909         0         2  3.6980   5.742046  \n",
       "2   0.136364         0         3  3.9104   6.275983  \n",
       "3   0.136364         0         3  5.3600   3.546533  \n",
       "4   0.090909         0         0  3.4812   5.234568  \n",
       "5   0.090909         0         3  2.2152   3.978506  \n",
       "6   0.136364         2         4  6.1130  49.189579  \n",
       "7   0.045455         0         3  3.3088  16.903684  \n",
       "8   0.227273         1         2  2.7706   6.440308  \n",
       "9   0.136364         2         5  2.2746   5.185393  \n",
       "10  0.409091         4         3  3.9262  60.262061  \n",
       "11  0.136364         0         2  3.4678   4.000077  \n",
       "\n",
       "[12 rows x 60 columns]"
      ]
     },
     "execution_count": 10,
     "metadata": {},
     "output_type": "execute_result"
    }
   ],
   "source": [
    "dataMat_user_R"
   ]
  },
  {
   "cell_type": "code",
   "execution_count": 12,
   "id": "163bb55d-b166-4948-b244-dfcaa4203bcf",
   "metadata": {},
   "outputs": [
    {
     "name": "stdout",
     "output_type": "stream",
     "text": [
      "> Populating derived features ...  fs scores ... LDLV ... Albumin Creatinine ratio ... "
     ]
    }
   ],
   "source": [
    "if useDerived:\n",
    "    print(\"> Populating derived features ... \", end=\"\")\n",
    "    print(\" fs scores ...\", end=\"\")\n",
    "    \n",
    "    ######### FS scores\n",
    "    ## NHANES DATA\n",
    "    fs1Score = popPCFIfs1(qDataMat)\n",
    "    fs2Score = popPCFIfs2(qDataMat)\n",
    "    fs3Score = popPCFIfs3(qDataMat)\n",
    "    dataMat['fs1Score'] = fs1Score\n",
    "    dataMat['fs2Score'] = fs2Score\n",
    "    dataMat['fs3Score'] = fs3Score\n",
    "    \n",
    "    ## USER DATA\n",
    "    fs1Score = popPCFIfs1(qDataMat_user)\n",
    "    fs2Score = popPCFIfs2(qDataMat_user)\n",
    "    fs3Score = popPCFIfs3(qDataMat_user)\n",
    "    dataMat_user['fs1Score'] = fs1Score\n",
    "    dataMat_user['fs2Score'] = fs2Score\n",
    "    dataMat_user['fs3Score'] = fs3Score\n",
    "    \n",
    "    ######### LDL scores\n",
    "    ## LDL values\n",
    "    print(\" LDLV ...\", end=\"\")\n",
    "    LDLV = populateLDL(dataMat, qDataMat)\n",
    "    dataMat['LDLV'] = LDLV\n",
    "    \n",
    "    ## USER DATA\n",
    "    LDLV = populateLDL(dataMat_user, qDataMat_user)\n",
    "    dataMat_user['LDLV'] = LDLV\n",
    "    \n",
    "    ######### Urine albumin to creatinine ratio\n",
    "    ## Urine Albumin Creatinine ratio\n",
    "    print(\" Albumin Creatinine ratio ... \", end=\"\")\n",
    "    creaVals = dataMat[\"URXUCRSI\"].values\n",
    "    albuVals = dataMat[\"URXUMASI\"].values\n",
    "    crAlbRat = albuVals / (creaVals * 1.1312 * 10**-4)\n",
    "    dataMat['crAlbRat'] = crAlbRat\n",
    "    \n",
    "    ## USER DATA\n",
    "    creaVals = dataMat_user[\"URXUCRSI\"].values\n",
    "    albuVals = dataMat_user[\"URXUMASI\"].values\n",
    "    crAlbRat = albuVals / (creaVals * 1.1312 * 10**-4)\n",
    "    dataMat_user['crAlbRat'] = crAlbRat"
   ]
  },
  {
   "cell_type": "code",
   "execution_count": 13,
   "id": "e12ff0ff-7186-4419-ba29-0897e34cd288",
   "metadata": {},
   "outputs": [],
   "source": [
    "pd.testing.assert_frame_equal(dataMat_user.drop(['LBDTCSI', 'LBDHDLSI', 'LBDSTRSI'], axis=1), dataMat_user_R[:2], check_dtype=False)"
   ]
  },
  {
   "cell_type": "code",
   "execution_count": 14,
   "id": "94306f25-36cf-499a-91a9-0c891ab5228c",
   "metadata": {},
   "outputs": [
    {
     "name": "stdout",
     "output_type": "stream",
     "text": [
      "> Applying boxCox transformed  ... Done\n"
     ]
    }
   ],
   "source": [
    "dataMat_trans_user = boxCoxTransform(boxCox_lam, dataMat_user)"
   ]
  },
  {
   "cell_type": "code",
   "execution_count": 15,
   "id": "c100db2e-ff80-487a-936a-224abb7f86e6",
   "metadata": {},
   "outputs": [],
   "source": [
    "dataMat_trans_user_R =  pd.read_csv(\"dataMat_trans_userR.csv\")"
   ]
  },
  {
   "cell_type": "code",
   "execution_count": null,
   "id": "253c2154-092a-4f90-82ae-cba89c6e0501",
   "metadata": {},
   "outputs": [],
   "source": [
    "pd.testing.assert_frame_equal(dataMat_trans_user.drop(['LBDTCSI', 'LBDHDLSI', 'LBDSTRSI'], axis=1), dataMat_trans_user_R[:2], check_dtype=False)"
   ]
  },
  {
   "cell_type": "code",
   "execution_count": null,
   "id": "d3dbdb54-b6d8-479e-ae55-02f3678365c4",
   "metadata": {},
   "outputs": [],
   "source": [
    "qDataMat_R = pd.read_csv('qDataMat_R.csv')\n",
    "qDataMat_user_R = pd.read_csv('qDataMat_user_R.csv')"
   ]
  },
  {
   "cell_type": "code",
   "execution_count": 23,
   "id": "a2b1e531-04cd-409b-b61b-d06ba7872933",
   "metadata": {},
   "outputs": [],
   "source": [
    "pd.testing.assert_frame_equal(qDataMat_user_R[:2], qDataMat_user, check_dtype=False)"
   ]
  },
  {
   "cell_type": "code",
   "execution_count": 32,
   "id": "6135985b-becd-4bda-a723-9ad1dafc70ff",
   "metadata": {},
   "outputs": [],
   "source": [
    "#pd.testing.assert_frame_equal(qDataMat_R, qDataMat, check_dtype=False) #that one is a troublemaker"
   ]
  },
  {
   "cell_type": "code",
   "execution_count": 24,
   "id": "2a22ca9f-b535-47ff-9191-d407519845ae",
   "metadata": {},
   "outputs": [],
   "source": [
    "dataMatNorm_user = normAsZscores_99_young_mf(dataMat_trans_user.drop(['LBDTCSI', 'LBDHDLSI', 'LBDSTRSI'], axis=1), qDataMat_user, dataMat_trans, qDataMat_R)\n",
    "\n",
    "dataMatNorm_user_R = pd.read_csv('dataMatNorm_user_R.csv')[:2]\n",
    "#dataMatNorm_user = pd.read_csv('dataMatNorm_user_R.csv')[:2]"
   ]
  },
  {
   "cell_type": "code",
   "execution_count": null,
   "id": "5d9e9ade-5ebb-4275-bec6-bddc5344af4a",
   "metadata": {},
   "outputs": [],
   "source": [
    "pd.testing.assert_frame_equal(dataMatNorm_user, dataMatNorm_user_R[:2], check_dtype=False)"
   ]
  },
  {
   "cell_type": "code",
   "execution_count": 73,
   "id": "90785cd1-9353-4f8b-836c-19155e550207",
   "metadata": {},
   "outputs": [
    {
     "data": {
      "text/plain": [
       "Index(['BPXPLS', 'BPXSAR', 'BPXDAR', 'BMXBMI', 'URXUMASI', 'URXUCRSI',\n",
       "       'LBDIRNSI', 'LBDTIBSI', 'LBXPCT', 'LBDFERSI', 'LBDFOLSI', 'LBDB12SI',\n",
       "       'LBXCOT', 'LBXWBCSI', 'LBXLYPCT', 'LBXMOPCT', 'LBXNEPCT', 'LBXEOPCT',\n",
       "       'LBXBAPCT', 'LBDLYMNO', 'LBDMONO', 'LBDNENO', 'LBDEONO', 'LBDBANO',\n",
       "       'LBXRBCSI', 'LBXHGB', 'LBXHCT', 'LBXMCVSI', 'LBXMCHSI', 'LBXMC',\n",
       "       'LBXRDW', 'LBXPLTSI', 'LBXMPSI', 'LBXCRP', 'LBXGH', 'SSBNP', 'LBDSALSI',\n",
       "       'LBXSATSI', 'LBXSASSI', 'LBXSAPSI', 'LBDSBUSI', 'LBDSCASI', 'LBXSC3SI',\n",
       "       'LBDSGLSI', 'LBXSLDSI', 'LBDSPHSI', 'LBDSTBSI', 'LBDSTPSI', 'LBDSUASI',\n",
       "       'LBDSCRSI', 'LBXSNASI', 'LBXSKSI', 'LBXSCLSI', 'LBDSGBSI', 'fs1Score',\n",
       "       'fs2Score', 'fs3Score', 'LDLV', 'crAlbRat'],\n",
       "      dtype='object')"
      ]
     },
     "execution_count": 73,
     "metadata": {},
     "output_type": "execute_result"
    }
   ],
   "source": [
    "dataMat_user_R.columns[1:]"
   ]
  },
  {
   "cell_type": "code",
   "execution_count": 26,
   "id": "7bc46968-f72f-4478-a303-8e72f18e7fca",
   "metadata": {},
   "outputs": [
    {
     "name": "stdout",
     "output_type": "stream",
     "text": [
      "> Folding in outliers at maximum total zScore: 6 ... Done\n",
      "> Projecting data into PC coordinates  ... Done\n",
      "> Projecting data into PC coordinates  ... Done\n"
     ]
    }
   ],
   "source": [
    "zScoreMax = 6\n",
    "\n",
    "dataMatUser_folded = foldOutliers(dataMatNorm_user, zScoreMax)\n",
    "\n",
    "inputMat_user = dataMatUser_folded.iloc[:, 1:].values\n",
    "\n",
    "\n",
    "sexSel_user = qDataMat_user[\"RIAGENDR\"].values\n",
    "\n",
    "inputMat_user_M = inputMat_user[sexSel_user == 1, :]\n",
    "inputMat_user_F = inputMat_user[sexSel_user == 2, :]\n",
    "\n",
    "\n",
    "\n",
    "\n",
    "pcMat_user_M = projectToSVD(inputMat_user_M, vMatDat99_M)\n",
    "pcMat_user_F = projectToSVD(inputMat_user_F, vMatDat99_F)\n",
    "\n",
    "\n",
    "rowsAll_user = pcMat_user_M.shape[0] + pcMat_user_F.shape[0]\n",
    "colsAll = nSVs99_M = 59\n",
    "\n",
    "pcMat_user = np.zeros((rowsAll_user, colsAll))\n",
    "\n",
    "\n",
    "\n",
    "pcMat_user[sexSel_user == 1, :] = pcMat_user_M\n",
    "pcMat_user[sexSel_user == 2, :] = pcMat_user_F\n",
    "pcMat_user = pd.DataFrame(pcMat_user, columns=[f\"PC{i+1}\" for i in range(nSVs99_M)])\n",
    "\n",
    "coxCovs_user = np.column_stack([initAge_user, pcMat_user.values, sex_user])\n",
    "coxCovs_user = pd.DataFrame(coxCovs_user, columns=['chronAge'] + list(pcMat_user.columns) + ['sex_user'])\n",
    "\n",
    "## Split back into male / female to apply separate models\n",
    "coxCovs_user_M = coxCovs_user[sex_user == 1]\n",
    "coxCovs_user_F = coxCovs_user[sex_user == 2]\n",
    "\n",
    "coxCovs_user_F = pd.DataFrame(coxCovs_user_F)\n",
    "\n",
    "coxCovs_user_M_R = pd.read_csv('coxCovs_user_M_R.csv')\n",
    "coxCovs_user_F_R = pd.read_csv('coxCovs_user_F_R.csv')\n",
    "\n",
    "delBioAge_user_F = calcBioAge_R_equiv(coxModelF, nullModelF, coxCovs_user_F,  coxCovsTrainF)                    \n",
    "bioAge_user_F = coxCovs_user_F[\"chronAge\"].values + delBioAge_user_F\n",
    "\n",
    "delBioAge_user_M = calcBioAge_R_equiv(coxModelM, nullModelM, coxCovs_user_M,  coxCovsTrainM)                    \n",
    "bioAge_user_M = coxCovs_user_M[\"chronAge\"].values + delBioAge_user_M"
   ]
  },
  {
   "cell_type": "code",
   "execution_count": 27,
   "id": "72436ced-1e14-4d63-8ced-0921c5c2f953",
   "metadata": {},
   "outputs": [],
   "source": [
    "delBioAge_user_M_R = pd.read_csv(\"delBioAge_user_M_R.csv\")"
   ]
  },
  {
   "cell_type": "code",
   "execution_count": 28,
   "id": "41c2c747-38e4-4109-916e-ae6b640cfc2d",
   "metadata": {},
   "outputs": [
    {
     "data": {
      "text/plain": [
       "array([200.41124048, -95.62768582])"
      ]
     },
     "execution_count": 28,
     "metadata": {},
     "output_type": "execute_result"
    }
   ],
   "source": [
    "delBioAge_user_M"
   ]
  },
  {
   "cell_type": "code",
   "execution_count": 29,
   "id": "87bac43a-eee9-40cd-ac36-f0ffd7f7576f",
   "metadata": {},
   "outputs": [
    {
     "data": {
      "text/plain": [
       "array([200.33384823, -95.70520872])"
      ]
     },
     "execution_count": 29,
     "metadata": {},
     "output_type": "execute_result"
    }
   ],
   "source": [
    "delBioAge_user_M_R.values.flatten()[:2]"
   ]
  },
  {
   "cell_type": "code",
   "execution_count": 52,
   "id": "affb5749-b9ce-469b-80fa-62ee41450b83",
   "metadata": {},
   "outputs": [],
   "source": [
    "pc_indices = [int(x[2:])-1 for x in coxModelM.feature_names_in_ if 'PC' in x]\n",
    "\n",
    "beta_full = np.zeros(59)\n",
    "beta_full[pc_indices] = coxModelM.coef_[1:]\n",
    "beta_age_null = nullModelM.coef_[0]\n",
    "\n",
    "beta_age_full = coxModelM.coef_[0]\n",
    "\n",
    "w_feature_years = (vMatDat99_M @ beta_full)/beta_age_null\n",
    "\n",
    "w_age = (beta_age_full / beta_age_null) - 1.0\n",
    "\n",
    "\n",
    "\n",
    "mu_PC = np.zeros(59)\n",
    "mu_PC[pc_indices] = coxCovsTrainM.mean().loc[coxModelM.feature_names_in_].iloc[1:].values\n",
    "mu_age = coxCovsTrainM['chronAge'].mean()\n",
    "\n",
    "mu_Z = mu_PC@vMatDat99_M.T\n",
    "\n",
    "Z_centered = inputMat_user_M - mu_Z      # shape (n_samples, n_features)\n",
    "term_features = (Z_centered @ w_feature_years)\n",
    "term_age = (initAge_user - mu_age) * w_age\n",
    "\n",
    "alt_delta = term_features + term_age"
   ]
  },
  {
   "cell_type": "code",
   "execution_count": 53,
   "id": "21feec22-6fca-474c-ac99-dbae7dc56842",
   "metadata": {},
   "outputs": [
    {
     "data": {
      "text/plain": [
       "array([200.41124048, -95.62768582])"
      ]
     },
     "execution_count": 53,
     "metadata": {},
     "output_type": "execute_result"
    }
   ],
   "source": [
    "alt_delta"
   ]
  },
  {
   "cell_type": "code",
   "execution_count": 54,
   "id": "f2c9f4c5-9f71-4a22-8930-6990fbcbba71",
   "metadata": {},
   "outputs": [
    {
     "data": {
      "text/plain": [
       "array([225.8549949, -69.436464 ])"
      ]
     },
     "execution_count": 54,
     "metadata": {},
     "output_type": "execute_result"
    }
   ],
   "source": [
    "term_features"
   ]
  },
  {
   "cell_type": "code",
   "execution_count": 91,
   "id": "60bac6c4-6b9d-492d-b94c-a3ece4d401af",
   "metadata": {},
   "outputs": [],
   "source": [
    "nhanes_desc = {\n",
    "  # Vitals / anthropometry\n",
    "  \"BPXPLS\": \"Pulse rate (beats/min, 60-sec pulse).\",   # CDC BPX doc\n",
    "  \"BPXSAR\": \"Systolic blood pressure — average reported to examinee (mmHg).\",\n",
    "  \"BPXDAR\": \"Diastolic blood pressure — average reported to examinee (mmHg).\",\n",
    "  \"BMXBMI\": \"Body mass index (kg/m²).\",\n",
    "\n",
    "  # Kidney (urine)\n",
    "  \"URXUMASI\": \"Urine albumin (microalbumin), SI units (e.g., mg/L→mg/L; often used for UACR).\",\n",
    "  \"URXUCRSI\": \"Urine creatinine, SI units (mmol/L).\",\n",
    "\n",
    "  # Iron panel\n",
    "  \"LBDIRNSI\": \"Serum iron (µmol/L).\",\n",
    "  \"LBDTIBSI\": \"Total iron binding capacity, TIBC (µmol/L).\",\n",
    "  \"LBXPCT\":   \"Transferrin saturation (%) = (serum iron / TIBC)×100.\",\n",
    "  \"LBDFERSI\": \"Ferritin (µg/L).\",\n",
    "\n",
    "  # Folate / B12 / cotinine\n",
    "  \"LBDFOLSI\": \"Serum folate (nmol/L).\",\n",
    "  \"LBDB12SI\": \"Vitamin B12 (pmol/L).\",\n",
    "  \"LBXCOT\":   \"Cotinine (ng/mL)—tobacco exposure marker.\",\n",
    "\n",
    "  # CBC (white cells)\n",
    "  \"LBXWBCSI\": \"White blood cell count (×10⁹/L).\",\n",
    "  \"LBXLYPCT\": \"Lymphocytes (%).\",\n",
    "  \"LBXMOPCT\": \"Monocytes (%).\",\n",
    "  \"LBXNEPCT\": \"Neutrophils (%).\",\n",
    "  \"LBXEOPCT\": \"Eosinophils (%).\",\n",
    "  \"LBXBAPCT\": \"Basophils (%).\",\n",
    "  \"LBDLYMNO\": \"Lymphocytes (×10⁹/L).\",\n",
    "  \"LBDMONO\":  \"Monocytes (×10⁹/L).\",\n",
    "  \"LBDNENO\":  \"Neutrophils (×10⁹/L).\",\n",
    "  \"LBDEONO\":  \"Eosinophils (×10⁹/L).\",\n",
    "  \"LBDBANO\":  \"Basophils (×10⁹/L).\",\n",
    "\n",
    "  # CBC (red cells / platelets)\n",
    "  \"LBXRBCSI\": \"Red blood cell count (×10¹²/L).\",\n",
    "  \"LBXHGB\":   \"Hemoglobin (g/dL).\",\n",
    "  \"LBXHCT\":   \"Hematocrit (%).\",\n",
    "  \"LBXMCVSI\": \"Mean corpuscular volume, MCV (fL).\",\n",
    "  \"LBXMCHSI\": \"Mean corpuscular hemoglobin, MCH (pg).\",\n",
    "  \"LBXMC\":    \"Mean corpuscular hemoglobin concentration, MCHC (g/dL).\",\n",
    "  \"LBXRDW\":   \"Red cell distribution width (%).\",\n",
    "  \"LBXPLTSI\": \"Platelet count (×10⁹/L).\",\n",
    "  \"LBXMPSI\":  \"Mean platelet volume, MPV (fL).\",\n",
    "\n",
    "  # Inflammation / glycemia / cardiac\n",
    "  \"LBXCRP\": \"C-reactive protein (mg/L).\",\n",
    "  \"LBXGH\":  \"Glycohemoglobin (HbA1c, %).\",\n",
    "  \"SSBNP\":  \"N-terminal pro-B-type natriuretic peptide (NT-proBNP, pg/mL).\",\n",
    "\n",
    "  # Basic chem (SI set)\n",
    "  \"LBDSALSI\": \"Albumin (g/L).\",\n",
    "  \"LBXSATSI\": \"Alanine aminotransferase, ALT (U/L).\",\n",
    "  \"LBXSASSI\": \"Aspartate aminotransferase, AST (U/L).\",\n",
    "  \"LBXSAPSI\": \"Alkaline phosphatase (U/L).\",\n",
    "  \"LBDSBUSI\": \"Urea nitrogen (BUN), SI (mmol/L).\",\n",
    "  \"LBDSCASI\": \"Calcium, SI (mmol/L).\",\n",
    "  \"LBXSC3SI\": \"Bicarbonate (total CO₂), SI (mmol/L).\",\n",
    "  \"LBDSGLSI\": \"Glucose, SI (mmol/L).\",\n",
    "  \"LBXSLDSI\": \"Lactate dehydrogenase, LDH (U/L).\",\n",
    "  \"LBDSPHSI\": \"Phosphorus (mmol/L).\",\n",
    "  \"LBDSTBSI\": \"Total bilirubin (µmol/L).\",\n",
    "  \"LBDSTPSI\": \"Total protein (g/L).\",\n",
    "  \"LBDSUASI\": \"Uric acid (µmol/L).\",\n",
    "  \"LBDSCRSI\": \"Creatinine (µmol/L).\",\n",
    "  \"LBXSNASI\": \"Sodium (mmol/L).\",\n",
    "  \"LBXSKSI\": \"Potassium (mmol/L).\",\n",
    "  \"LBXSCLSI\": \"Chloride (mmol/L).\",\n",
    "  \"LBDSGBSI\": \"Globulin (g/L).\",\n",
    "\n",
    "  # Derived / study-specific\n",
    "  \"fs1Score\": \"Factor score 1 (LinAge2—internal composite).\",\n",
    "  \"fs2Score\": \"Factor score 2 (LinAge2—internal composite).\",\n",
    "  \"fs3Score\": \"Factor score 3 (LinAge2—internal composite).\",\n",
    "  \"LDLV\":     \"Calculated LDL cholesterol (Friedewald or NHANES calc; mg/dL).\",\n",
    "  \"crAlbRat\": \"Urine albumin-to-creatinine ratio (UACR).\",\n",
    "}\n"
   ]
  },
  {
   "cell_type": "code",
   "execution_count": 85,
   "id": "756c2dcb-c12f-4a8c-91a2-72986620374f",
   "metadata": {},
   "outputs": [],
   "source": [
    "import matplotlib.pyplot as plt\n",
    "plt.rcParams[\"figure.figsize\"] = (10,10)"
   ]
  },
  {
   "cell_type": "code",
   "execution_count": null,
   "id": "c2f73c8d-c1d9-4677-984f-e107f1f42818",
   "metadata": {},
   "outputs": [],
   "source": [
    "import pandas as pd\n",
    "import numpy as np\n",
    "import plotly.express as px\n",
    "\n",
    "feature_names = ['BPXPLS', 'BPXSAR', 'BPXDAR', 'BMXBMI', 'URXUMASI', 'URXUCRSI',\n",
    "       'LBDIRNSI', 'LBDTIBSI', 'LBXPCT', 'LBDFERSI', 'LBDFOLSI', 'LBDB12SI',\n",
    "       'LBXCOT', 'LBXWBCSI', 'LBXLYPCT', 'LBXMOPCT', 'LBXNEPCT', 'LBXEOPCT',\n",
    "       'LBXBAPCT', 'LBDLYMNO', 'LBDMONO', 'LBDNENO', 'LBDEONO', 'LBDBANO',\n",
    "       'LBXRBCSI', 'LBXHGB', 'LBXHCT', 'LBXMCVSI', 'LBXMCHSI', 'LBXMC',\n",
    "       'LBXRDW', 'LBXPLTSI', 'LBXMPSI', 'LBXCRP', 'LBXGH', 'SSBNP', 'LBDSALSI',\n",
    "       'LBXSATSI', 'LBXSASSI', 'LBXSAPSI', 'LBDSBUSI', 'LBDSCASI', 'LBXSC3SI',\n",
    "       'LBDSGLSI', 'LBXSLDSI', 'LBDSPHSI', 'LBDSTBSI', 'LBDSTPSI', 'LBDSUASI',\n",
    "       'LBDSCRSI', 'LBXSNASI', 'LBXSKSI', 'LBXSCLSI', 'LBDSGBSI', 'fs1Score',\n",
    "       'fs2Score', 'fs3Score', 'LDLV', 'crAlbRat']\n",
    "\n",
    "# def plot_feature_contribs_interactive_np(Z_centered, w_feature_years, feature_names,\n",
    "#                                          subject_idx=0, title=None, term_age=None):\n",
    "#     df = pd.DataFrame(Z_centered, columns=feature_names)\n",
    "#     w = pd.Series(np.asarray(w_feature_years), index=feature_names, name=\"w_years_per_SD\")\n",
    "\n",
    "#     row = df.iloc[subject_idx]\n",
    "#     plot_df = pd.DataFrame({\n",
    "#         \"feature\": feature_names,\n",
    "#         \"z_centered\": row.values,\n",
    "#         \"w_years_per_SD\": w.values,\n",
    "#         \"contribution_years\": (row.values * w.values)/12\n",
    "#     })\n",
    "\n",
    "#     ttl = title or f\"Feature contributions for subject #{subject_idx}\"\n",
    "#     fig = px.bar(\n",
    "#         plot_df, x=\"contribution_years\", y=\"feature\",\n",
    "#         orientation=\"h\",\n",
    "#         title=ttl,\n",
    "#         color=\"contribution_years\",\n",
    "#         color_continuous_scale=\"RdBu\",\n",
    "#         hover_data=[\"z_centered\", \"w_years_per_SD\", \"contribution_years\"],\n",
    "#         width=1600, height=800\n",
    "#     )\n",
    "#     if term_age is not None:\n",
    "#         fig.add_vline(x=float(term_age)/12, line_dash=\"dash\", line_color=\"black\", annotation_text=\"Age term\")\n",
    "#     fig.update_layout(yaxis=dict(dtick=1))\n",
    "#     fig.show()\n",
    "#     return fig\n",
    "\n",
    "\n",
    "# a = plot_feature_contribs_interactive_np(Z_centered, w_feature_years, feature_names,\n",
    "#                                     subject_idx=1,\n",
    "#                                     term_age=float(term_age.iloc[1]) if hasattr(term_age, \"iloc\") else term_age[1])"
   ]
  },
  {
   "cell_type": "code",
   "execution_count": 106,
   "id": "c7df275b-8b9a-4332-9a60-b10af83e3943",
   "metadata": {},
   "outputs": [
    {
     "data": {
      "text/plain": [
       "array([6.80000000e+01, 1.11000000e+02, 5.00000000e+01, 3.13100000e+01,\n",
       "       9.69000000e+01, 1.82100000e+04, 1.98700000e+01, 5.49500000e+01,\n",
       "       3.62000000e+01, 8.10000000e+01, 4.05000000e+01, 4.18450000e+02,\n",
       "       2.00000000e+00, 6.60000000e+00, 2.65000000e+01, 8.50000000e+00,\n",
       "       6.01000000e+01, 4.30000000e+00, 6.00000000e-01, 1.70000000e+00,\n",
       "       6.00000000e-01, 4.00000000e+00, 3.00000000e-01, 0.00000000e+00,\n",
       "       4.99000000e+00, 1.51000000e+01, 4.66000000e+01, 9.32000000e+01,\n",
       "       3.03000000e+01, 3.25000000e+01, 1.32000000e+01, 2.93000000e+02,\n",
       "       8.10000000e+00, 9.50000000e-01, 8.00000000e+00, 1.02900000e+03,\n",
       "       4.30000000e+01, 1.50000000e+01, 1.60000000e+01, 1.48000000e+02,\n",
       "       3.90000000e+00, 2.52500000e+00, 2.50000000e+01, 3.94100000e+00,\n",
       "       1.77000000e+02, 1.51800000e+00, 1.37000000e+01, 7.90000000e+01,\n",
       "       3.03300000e+02, 7.96000000e+01, 1.42400000e+02, 4.35000000e+00,\n",
       "       1.01600000e+02, 3.60000000e+01, 2.27272727e-01, 0.00000000e+00,\n",
       "       3.00000000e+00, 2.67460000e+00, 4.70407714e+01])"
      ]
     },
     "execution_count": 106,
     "metadata": {},
     "output_type": "execute_result"
    }
   ],
   "source": [
    "dataMat_user[feature_names].iloc[0].values"
   ]
  },
  {
   "cell_type": "code",
   "execution_count": 121,
   "id": "ed3d70d2-aa52-4397-8150-137a0b09f376",
   "metadata": {},
   "outputs": [],
   "source": [
    "import pandas as pd\n",
    "import numpy as np\n",
    "import plotly.express as px\n",
    "\n",
    "def plot_feature_contribs_interactive_np(\n",
    "    Z_centered: np.ndarray,\n",
    "    w_feature_years: np.ndarray,\n",
    "    raw_features: pd.DataFrame,\n",
    "    feature_names: list[str],\n",
    "    subject_idx: int = 0,\n",
    "    title: str | None = None,\n",
    "    term_age: float | None = None,\n",
    "    descriptions: dict | pd.Series | None = None,\n",
    "):\n",
    "    \"\"\"\n",
    "    Z_centered : np.ndarray (n_samples × n_features)\n",
    "    w_feature_years : np.ndarray (n_features,)\n",
    "    feature_names : list of feature codes (len = n_features)\n",
    "    descriptions : dict or pd.Series mapping feature -> human-readable text\n",
    "    \"\"\"\n",
    "    dfZ = pd.DataFrame(Z_centered, columns=feature_names)\n",
    "    w = pd.Series(np.asarray(w_feature_years), index=feature_names, name=\"w_years_per_SD\")\n",
    "    row = dfZ.iloc[subject_idx]\n",
    "\n",
    "    # construct plotting dataframe\n",
    "    plot_df = pd.DataFrame({\n",
    "        \"feature\": feature_names,\n",
    "        \"description\": [descriptions.get(f, f) for f in feature_names] if descriptions is not None else feature_names,\n",
    "        \"z_centered\": row.values,\n",
    "        \"w_years_per_SD\": w.values,\n",
    "        \"contribution_years\": (row.values * w.values)/12,\n",
    "        \"lab_values\": raw_features[feature_names].iloc[subject_idx].values\n",
    "    }).sort_values(\"contribution_years\")\n",
    "\n",
    "    color_continuous_scale=[(0, \"blue\"), (0.5, \"white\"), (1, \"red\")],\n",
    "    range_color=[plot_df[\"contribution_years\"].min(),\n",
    "                 plot_df[\"contribution_years\"].max()]\n",
    "\n",
    "    vals = plot_df[\"contribution_years\"]\n",
    "    m = float(np.nanquantile(np.abs(vals), 0.9))\n",
    "    \n",
    "    # color scale: red→blue (aging/de-aging)\n",
    "    fig = px.bar(\n",
    "        plot_df,\n",
    "        x=\"contribution_years\",\n",
    "        y=\"feature\",\n",
    "        orientation=\"h\",\n",
    "        title=title or f\"Feature contributions for subject #{subject_idx}\",\n",
    "        \n",
    "        color=\"contribution_years\",\n",
    "        color_continuous_scale=\"RdBu_r\",         # blue for negative, red for positive\n",
    "        range_color=[-m, m],                     # <-- symmetric\n",
    "        color_continuous_midpoint=0,\n",
    "        hover_data=[\"description\", \"z_centered\", \"w_years_per_SD\", \"contribution_years\"],\n",
    "         width=1600, height=800\n",
    "    )\n",
    "\n",
    "    # nice hover tooltip template\n",
    "    fig.update_traces(\n",
    "        customdata=plot_df[[\"description\",\"lab_values\",\"z_centered\",\"w_years_per_SD\"]].values,\n",
    "        hovertemplate=(\n",
    "            \"<b>%{y}</b><br>%{customdata[0]}<br>\"\n",
    "            \"user input: %{customdata[1]}<br>\"\n",
    "            \"z (centered): %{customdata[2]:.3f}<br>\"\n",
    "            \"weight (yrs/SD): %{customdata[3]:.3f}<br>\"\n",
    "            \"contrib (yrs): %{x:.3f}<extra></extra>\"\n",
    "        )\n",
    "    )\n",
    "\n",
    "    if term_age is not None:\n",
    "        fig.add_vline(x=float(term_age)/12, line_dash=\"dash\", line_color=\"black\", annotation_text=\"Age term\")\n",
    "\n",
    "    fig.update_layout(yaxis=dict(dtick=1))\n",
    "    return fig\n"
   ]
  },
  {
   "cell_type": "code",
   "execution_count": 124,
   "id": "6f1bc849-260d-4828-94f1-ed5814b5568b",
   "metadata": {},
   "outputs": [
    {
     "data": {
      "application/vnd.plotly.v1+json": {
       "config": {
        "plotlyServerURL": "https://plot.ly"
       },
       "data": [
        {
         "customdata": [
          [
           "Calcium, SI (mmol/L).",
           2.225,
           -1.7207104720521875,
           13.653280418086934
          ],
          [
           "Cotinine (ng/mL)—tobacco exposure marker.",
           0,
           -0.4326850660630161,
           35.209202399719786
          ],
          [
           "Pulse rate (beats/min, 60-sec pulse).",
           50,
           -1.7494717674696147,
           7.375618011111198
          ],
          [
           "Globulin (g/L).",
           26,
           -1.1521018424227285,
           10.971576959389015
          ],
          [
           "Uric acid (µmol/L).",
           291.5,
           -0.9031166506554432,
           11.955746523438155
          ],
          [
           "Urine albumin (microalbumin), SI units (e.g., mg/L→mg/L; often used for UACR).",
           8.9,
           -1.2760768083058154,
           8.360407688729648
          ],
          [
           "Albumin (g/L).",
           46,
           0.4360637258229708,
           -22.642984565989597
          ],
          [
           "Transferrin saturation (%) = (serum iron / TIBC)×100.",
           46.9,
           2.0906040461661983,
           -4.165296303614049
          ],
          [
           "Basophils (%).",
           0.4,
           -0.8529954590342559,
           10.099022082222195
          ],
          [
           "Lactate dehydrogenase, LDH (U/L).",
           196,
           1.4264927356819035,
           -6.003955625940781
          ],
          [
           "Glycohemoglobin (HbA1c, %).",
           5.3,
           -0.9646325098836407,
           7.411087253552341
          ],
          [
           "Factor score 2 (LinAge2—internal composite).",
           0,
           -0.6573200153691724,
           10.567126417139171
          ],
          [
           "Red cell distribution width (%).",
           12.6,
           -0.4549605712136663,
           14.769605647942058
          ],
          [
           "Alkaline phosphatase (U/L).",
           107,
           0.9597204558914059,
           -4.7518288644732944
          ],
          [
           "Vitamin B12 (pmol/L).",
           686.34,
           1.7726299096748028,
           -1.5961191755334327
          ],
          [
           "Alanine aminotransferase, ALT (U/L).",
           32,
           0.46006183988456606,
           -5.47229762408037
          ],
          [
           "Total iron binding capacity, TIBC (µmol/L).",
           61.04,
           -0.2245656794835363,
           10.653228659316278
          ],
          [
           "Ferritin (µg/L).",
           292,
           1.0128594154023942,
           -2.2989641142836215
          ],
          [
           "Urine albumin-to-creatinine ratio (UACR).",
           5.742045731149005,
           -1.0733378048915012,
           1.9971420836998923
          ],
          [
           "Platelet count (×10⁹/L).",
           264,
           0.3406472653738666,
           -3.4000995316521028
          ],
          [
           "Factor score 3 (LinAge2—internal composite).",
           2,
           0.47680521214929317,
           -1.402415523142021
          ],
          [
           "Lymphocytes (×10⁹/L).",
           1.2,
           -1.3753368089210658,
           0.4425668509164455
          ],
          [
           "Creatinine (µmol/L).",
           70.7,
           -0.4989785604266438,
           1.0793146147091734
          ],
          [
           "Hemoglobin (g/dL).",
           15.4,
           0.5565062967393141,
           -0.853218968992288
          ],
          [
           "Total bilirubin (µmol/L).",
           10.3,
           0.07597310820699149,
           -4.525120779747569
          ],
          [
           "White blood cell count (×10⁹/L).",
           6.8,
           -0.0723635130642111,
           3.551475057823795
          ],
          [
           "Calculated LDL cholesterol (Friedewald or NHANES calc; mg/dL).",
           3.6979999999999995,
           -0.06804869903471172,
           1.6507072466056152
          ],
          [
           "Sodium (mmol/L).",
           139.4,
           0.005595631966470227,
           -11.821776500071776
          ],
          [
           "Basophils (×10⁹/L).",
           0,
           -0.02821933080522054,
           0.6773789416618162
          ],
          [
           "Factor score 1 (LinAge2—internal composite).",
           0.09090909090909091,
           0.012632617664717974,
           0.7038261192935665
          ],
          [
           "Urea nitrogen (BUN), SI (mmol/L).",
           10,
           2.5907011588893845,
           0.04498345666183805
          ],
          [
           "C-reactive protein (mg/L).",
           0.08,
           -0.947003788385073,
           -0.20238370532870767
          ],
          [
           "Diastolic blood pressure — average reported to examinee (mmHg).",
           74,
           -0.047710488512543,
           -7.754187892045444
          ],
          [
           "Hematocrit (%).",
           46.2,
           0.7597992298656896,
           0.5261356241145664
          ],
          [
           "Monocytes (×10⁹/L).",
           0.6,
           -0.1685575749113043,
           -2.8401322041310997
          ],
          [
           "Aspartate aminotransferase, AST (U/L).",
           26,
           0.207989420076107,
           2.381850768150035
          ],
          [
           "Urine creatinine, SI units (mmol/L).",
           13702,
           0.5120638228843615,
           1.1988751098891146
          ],
          [
           "Red blood cell count (×10¹²/L).",
           4.81,
           -0.17799591338741527,
           -3.580006675805504
          ],
          [
           "Phosphorus (mmol/L).",
           1.227,
           0.998289438626947,
           0.660178247668028
          ],
          [
           "Eosinophils (%).",
           2.2,
           -0.6005965673415636,
           -1.1933578175978448
          ],
          [
           "Monocytes (%).",
           8.1,
           -0.2624860202237862,
           -2.961994975315112
          ],
          [
           "Eosinophils (×10⁹/L).",
           0.1,
           -0.8677494754304236,
           -1.4128602306706735
          ],
          [
           "Glucose, SI (mmol/L).",
           5.273,
           -0.47313013866118103,
           -3.6723906221107043
          ],
          [
           "Mean corpuscular hemoglobin, MCH (pg).",
           32,
           0.6967142307351886,
           3.0263177461091275
          ],
          [
           "Potassium (mmol/L).",
           4.08,
           -0.4569289320104978,
           -5.633865117423668
          ],
          [
           "Lymphocytes (%).",
           17.2,
           -1.3917694640909375,
           -2.0149477634665467
          ],
          [
           "Total protein (g/L).",
           72,
           -0.8668670032732121,
           -3.8092896535491083
          ],
          [
           "Mean corpuscular hemoglobin concentration, MCHC (g/dL).",
           33.3,
           -0.5785301547607458,
           -6.161403336356293
          ],
          [
           "Serum iron (µmol/L).",
           28.64,
           2.025368085598957,
           1.8862544712221154
          ],
          [
           "Neutrophils (%).",
           72.2,
           1.4815617468422737,
           2.66779367087459
          ],
          [
           "Chloride (mmol/L).",
           100.8,
           -0.3779476503413407,
           -11.536339094559972
          ],
          [
           "Neutrophils (×10⁹/L).",
           4.9,
           0.5152966010069504,
           8.532847392709456
          ],
          [
           "Mean platelet volume, MPV (fL).",
           10,
           2.3229338250719365,
           1.9846572370290447
          ],
          [
           "N-terminal pro-B-type natriuretic peptide (NT-proBNP, pg/mL).",
           72.14,
           0.22855957361833656,
           23.406211112407163
          ],
          [
           "Bicarbonate (total CO₂), SI (mmol/L).",
           28,
           2.690962244394063,
           2.267452745652991
          ],
          [
           "Mean corpuscular volume, MCV (fL).",
           96.1,
           1.1299033326077172,
           6.6878450795928455
          ],
          [
           "Body mass index (kg/m²).",
           23.13,
           -1.069185552108439,
           -7.978699299124926
          ],
          [
           "Serum folate (nmol/L).",
           60.2,
           1.5051927556968336,
           5.8639068151534355
          ],
          [
           "Systolic blood pressure — average reported to examinee (mmHg).",
           154,
           1.661134636239634,
           8.191911990202792
          ]
         ],
         "hovertemplate": "<b>%{y}</b><br>%{customdata[0]}<br>user input: %{customdata[1]}<br>z (centered): %{customdata[2]:.3f}<br>weight (yrs/SD): %{customdata[3]:.3f}<br>contrib (yrs): %{x:.3f}<extra></extra>",
         "legendgroup": "",
         "marker": {
          "color": {
           "bdata": "sGiqmQ9T/79oWDWUClD0v0Yyi2VfNPG/VHeLvJTa8L9jeABRDMvsv4RSvWoLc+y/rG7424BU6r8vFby7pjjnv62PxgHH+Oa/2C/XLMTW5r8nSpYOXhDjv4HIQ6LKheK/47EXKD3r4b8F2wPlgFLYvwOoegn0Lc6/7WCjrrbayr9nAyCJtYTJv18VW6pu1si/GGHnq3rdxr+55FdZgbW4v6/U9xbCh6y/l/jmY2T4qb+jj+eDdPqmvyKwushRQqS/m6wJ/yZWnb/cMt6TMO6VvyUax8m0K4O/DZiIZU2Udr9ceGhkPRlav8neUC5gR0g/pN9OOKfjgz/Ns+H61VqQP9SPh2zQkZ8/EM9K02oOoT+DOnhZ9mykP0+5QSEWI6U/D7KSam4xqj/NJ+6ZNjCrPy+gYn6SHqw/L+ne2pCUrj9z0qQAF5awP6H9hW6kJ7o/Dx82mJWIwj8PaTVmjX3GP2MUd1V9dcs/YY2jrrnpzT+mOzw1iJzRPxG6OzHPAtM/6LkXdxBg1D+IzVc/exTVP3dv+K0IQdc/nBbFdExz1z+VXjdHf5bYPx8+v3AkiNw/hFchFWFF4D8uTEfKpibkP1CqfaGhv+Y/wBuMe22J5z9Rt/S20STyPw==",
           "dtype": "f8"
          },
          "coloraxis": "coloraxis",
          "pattern": {
           "shape": ""
          }
         },
         "name": "",
         "orientation": "h",
         "showlegend": false,
         "textposition": "auto",
         "type": "bar",
         "x": {
          "bdata": "sGiqmQ9T/79oWDWUClD0v0Yyi2VfNPG/VHeLvJTa8L9jeABRDMvsv4RSvWoLc+y/rG7424BU6r8vFby7pjjnv62PxgHH+Oa/2C/XLMTW5r8nSpYOXhDjv4HIQ6LKheK/47EXKD3r4b8F2wPlgFLYvwOoegn0Lc6/7WCjrrbayr9nAyCJtYTJv18VW6pu1si/GGHnq3rdxr+55FdZgbW4v6/U9xbCh6y/l/jmY2T4qb+jj+eDdPqmvyKwushRQqS/m6wJ/yZWnb/cMt6TMO6VvyUax8m0K4O/DZiIZU2Udr9ceGhkPRlav8neUC5gR0g/pN9OOKfjgz/Ns+H61VqQP9SPh2zQkZ8/EM9K02oOoT+DOnhZ9mykP0+5QSEWI6U/D7KSam4xqj/NJ+6ZNjCrPy+gYn6SHqw/L+ne2pCUrj9z0qQAF5awP6H9hW6kJ7o/Dx82mJWIwj8PaTVmjX3GP2MUd1V9dcs/YY2jrrnpzT+mOzw1iJzRPxG6OzHPAtM/6LkXdxBg1D+IzVc/exTVP3dv+K0IQdc/nBbFdExz1z+VXjdHf5bYPx8+v3AkiNw/hFchFWFF4D8uTEfKpibkP1CqfaGhv+Y/wBuMe22J5z9Rt/S20STyPw==",
          "dtype": "f8"
         },
         "xaxis": "x",
         "y": [
          "LBDSCASI",
          "LBXCOT",
          "BPXPLS",
          "LBDSGBSI",
          "LBDSUASI",
          "URXUMASI",
          "LBDSALSI",
          "LBXPCT",
          "LBXBAPCT",
          "LBXSLDSI",
          "LBXGH",
          "fs2Score",
          "LBXRDW",
          "LBXSAPSI",
          "LBDB12SI",
          "LBXSATSI",
          "LBDTIBSI",
          "LBDFERSI",
          "crAlbRat",
          "LBXPLTSI",
          "fs3Score",
          "LBDLYMNO",
          "LBDSCRSI",
          "LBXHGB",
          "LBDSTBSI",
          "LBXWBCSI",
          "LDLV",
          "LBXSNASI",
          "LBDBANO",
          "fs1Score",
          "LBDSBUSI",
          "LBXCRP",
          "BPXDAR",
          "LBXHCT",
          "LBDMONO",
          "LBXSASSI",
          "URXUCRSI",
          "LBXRBCSI",
          "LBDSPHSI",
          "LBXEOPCT",
          "LBXMOPCT",
          "LBDEONO",
          "LBDSGLSI",
          "LBXMCHSI",
          "LBXSKSI",
          "LBXLYPCT",
          "LBDSTPSI",
          "LBXMC",
          "LBDIRNSI",
          "LBXNEPCT",
          "LBXSCLSI",
          "LBDNENO",
          "LBXMPSI",
          "SSBNP",
          "LBXSC3SI",
          "LBXMCVSI",
          "BMXBMI",
          "LBDFOLSI",
          "BPXSAR"
         ],
         "yaxis": "y"
        }
       ],
       "layout": {
        "annotations": [
         {
          "showarrow": false,
          "text": "Age term",
          "x": -2.1826018183495255,
          "xanchor": "left",
          "xref": "x",
          "y": 1,
          "yanchor": "top",
          "yref": "y domain"
         }
        ],
        "barmode": "relative",
        "coloraxis": {
         "cmax": 0.8911920532435172,
         "cmid": 0,
         "cmin": -0.8911920532435172,
         "colorbar": {
          "title": {
           "text": "contribution_years"
          }
         },
         "colorscale": [
          [
           0,
           "rgb(5,48,97)"
          ],
          [
           0.1,
           "rgb(33,102,172)"
          ],
          [
           0.2,
           "rgb(67,147,195)"
          ],
          [
           0.3,
           "rgb(146,197,222)"
          ],
          [
           0.4,
           "rgb(209,229,240)"
          ],
          [
           0.5,
           "rgb(247,247,247)"
          ],
          [
           0.6,
           "rgb(253,219,199)"
          ],
          [
           0.7,
           "rgb(244,165,130)"
          ],
          [
           0.8,
           "rgb(214,96,77)"
          ],
          [
           0.9,
           "rgb(178,24,43)"
          ],
          [
           1,
           "rgb(103,0,31)"
          ]
         ]
        },
        "height": 800,
        "legend": {
         "tracegroupgap": 0
        },
        "shapes": [
         {
          "line": {
           "color": "black",
           "dash": "dash"
          },
          "type": "line",
          "x0": -2.1826018183495255,
          "x1": -2.1826018183495255,
          "xref": "x",
          "y0": 0,
          "y1": 1,
          "yref": "y domain"
         }
        ],
        "template": {
         "data": {
          "bar": [
           {
            "error_x": {
             "color": "#2a3f5f"
            },
            "error_y": {
             "color": "#2a3f5f"
            },
            "marker": {
             "line": {
              "color": "#E5ECF6",
              "width": 0.5
             },
             "pattern": {
              "fillmode": "overlay",
              "size": 10,
              "solidity": 0.2
             }
            },
            "type": "bar"
           }
          ],
          "barpolar": [
           {
            "marker": {
             "line": {
              "color": "#E5ECF6",
              "width": 0.5
             },
             "pattern": {
              "fillmode": "overlay",
              "size": 10,
              "solidity": 0.2
             }
            },
            "type": "barpolar"
           }
          ],
          "carpet": [
           {
            "aaxis": {
             "endlinecolor": "#2a3f5f",
             "gridcolor": "white",
             "linecolor": "white",
             "minorgridcolor": "white",
             "startlinecolor": "#2a3f5f"
            },
            "baxis": {
             "endlinecolor": "#2a3f5f",
             "gridcolor": "white",
             "linecolor": "white",
             "minorgridcolor": "white",
             "startlinecolor": "#2a3f5f"
            },
            "type": "carpet"
           }
          ],
          "choropleth": [
           {
            "colorbar": {
             "outlinewidth": 0,
             "ticks": ""
            },
            "type": "choropleth"
           }
          ],
          "contour": [
           {
            "colorbar": {
             "outlinewidth": 0,
             "ticks": ""
            },
            "colorscale": [
             [
              0,
              "#0d0887"
             ],
             [
              0.1111111111111111,
              "#46039f"
             ],
             [
              0.2222222222222222,
              "#7201a8"
             ],
             [
              0.3333333333333333,
              "#9c179e"
             ],
             [
              0.4444444444444444,
              "#bd3786"
             ],
             [
              0.5555555555555556,
              "#d8576b"
             ],
             [
              0.6666666666666666,
              "#ed7953"
             ],
             [
              0.7777777777777778,
              "#fb9f3a"
             ],
             [
              0.8888888888888888,
              "#fdca26"
             ],
             [
              1,
              "#f0f921"
             ]
            ],
            "type": "contour"
           }
          ],
          "contourcarpet": [
           {
            "colorbar": {
             "outlinewidth": 0,
             "ticks": ""
            },
            "type": "contourcarpet"
           }
          ],
          "heatmap": [
           {
            "colorbar": {
             "outlinewidth": 0,
             "ticks": ""
            },
            "colorscale": [
             [
              0,
              "#0d0887"
             ],
             [
              0.1111111111111111,
              "#46039f"
             ],
             [
              0.2222222222222222,
              "#7201a8"
             ],
             [
              0.3333333333333333,
              "#9c179e"
             ],
             [
              0.4444444444444444,
              "#bd3786"
             ],
             [
              0.5555555555555556,
              "#d8576b"
             ],
             [
              0.6666666666666666,
              "#ed7953"
             ],
             [
              0.7777777777777778,
              "#fb9f3a"
             ],
             [
              0.8888888888888888,
              "#fdca26"
             ],
             [
              1,
              "#f0f921"
             ]
            ],
            "type": "heatmap"
           }
          ],
          "histogram": [
           {
            "marker": {
             "pattern": {
              "fillmode": "overlay",
              "size": 10,
              "solidity": 0.2
             }
            },
            "type": "histogram"
           }
          ],
          "histogram2d": [
           {
            "colorbar": {
             "outlinewidth": 0,
             "ticks": ""
            },
            "colorscale": [
             [
              0,
              "#0d0887"
             ],
             [
              0.1111111111111111,
              "#46039f"
             ],
             [
              0.2222222222222222,
              "#7201a8"
             ],
             [
              0.3333333333333333,
              "#9c179e"
             ],
             [
              0.4444444444444444,
              "#bd3786"
             ],
             [
              0.5555555555555556,
              "#d8576b"
             ],
             [
              0.6666666666666666,
              "#ed7953"
             ],
             [
              0.7777777777777778,
              "#fb9f3a"
             ],
             [
              0.8888888888888888,
              "#fdca26"
             ],
             [
              1,
              "#f0f921"
             ]
            ],
            "type": "histogram2d"
           }
          ],
          "histogram2dcontour": [
           {
            "colorbar": {
             "outlinewidth": 0,
             "ticks": ""
            },
            "colorscale": [
             [
              0,
              "#0d0887"
             ],
             [
              0.1111111111111111,
              "#46039f"
             ],
             [
              0.2222222222222222,
              "#7201a8"
             ],
             [
              0.3333333333333333,
              "#9c179e"
             ],
             [
              0.4444444444444444,
              "#bd3786"
             ],
             [
              0.5555555555555556,
              "#d8576b"
             ],
             [
              0.6666666666666666,
              "#ed7953"
             ],
             [
              0.7777777777777778,
              "#fb9f3a"
             ],
             [
              0.8888888888888888,
              "#fdca26"
             ],
             [
              1,
              "#f0f921"
             ]
            ],
            "type": "histogram2dcontour"
           }
          ],
          "mesh3d": [
           {
            "colorbar": {
             "outlinewidth": 0,
             "ticks": ""
            },
            "type": "mesh3d"
           }
          ],
          "parcoords": [
           {
            "line": {
             "colorbar": {
              "outlinewidth": 0,
              "ticks": ""
             }
            },
            "type": "parcoords"
           }
          ],
          "pie": [
           {
            "automargin": true,
            "type": "pie"
           }
          ],
          "scatter": [
           {
            "fillpattern": {
             "fillmode": "overlay",
             "size": 10,
             "solidity": 0.2
            },
            "type": "scatter"
           }
          ],
          "scatter3d": [
           {
            "line": {
             "colorbar": {
              "outlinewidth": 0,
              "ticks": ""
             }
            },
            "marker": {
             "colorbar": {
              "outlinewidth": 0,
              "ticks": ""
             }
            },
            "type": "scatter3d"
           }
          ],
          "scattercarpet": [
           {
            "marker": {
             "colorbar": {
              "outlinewidth": 0,
              "ticks": ""
             }
            },
            "type": "scattercarpet"
           }
          ],
          "scattergeo": [
           {
            "marker": {
             "colorbar": {
              "outlinewidth": 0,
              "ticks": ""
             }
            },
            "type": "scattergeo"
           }
          ],
          "scattergl": [
           {
            "marker": {
             "colorbar": {
              "outlinewidth": 0,
              "ticks": ""
             }
            },
            "type": "scattergl"
           }
          ],
          "scattermap": [
           {
            "marker": {
             "colorbar": {
              "outlinewidth": 0,
              "ticks": ""
             }
            },
            "type": "scattermap"
           }
          ],
          "scattermapbox": [
           {
            "marker": {
             "colorbar": {
              "outlinewidth": 0,
              "ticks": ""
             }
            },
            "type": "scattermapbox"
           }
          ],
          "scatterpolar": [
           {
            "marker": {
             "colorbar": {
              "outlinewidth": 0,
              "ticks": ""
             }
            },
            "type": "scatterpolar"
           }
          ],
          "scatterpolargl": [
           {
            "marker": {
             "colorbar": {
              "outlinewidth": 0,
              "ticks": ""
             }
            },
            "type": "scatterpolargl"
           }
          ],
          "scatterternary": [
           {
            "marker": {
             "colorbar": {
              "outlinewidth": 0,
              "ticks": ""
             }
            },
            "type": "scatterternary"
           }
          ],
          "surface": [
           {
            "colorbar": {
             "outlinewidth": 0,
             "ticks": ""
            },
            "colorscale": [
             [
              0,
              "#0d0887"
             ],
             [
              0.1111111111111111,
              "#46039f"
             ],
             [
              0.2222222222222222,
              "#7201a8"
             ],
             [
              0.3333333333333333,
              "#9c179e"
             ],
             [
              0.4444444444444444,
              "#bd3786"
             ],
             [
              0.5555555555555556,
              "#d8576b"
             ],
             [
              0.6666666666666666,
              "#ed7953"
             ],
             [
              0.7777777777777778,
              "#fb9f3a"
             ],
             [
              0.8888888888888888,
              "#fdca26"
             ],
             [
              1,
              "#f0f921"
             ]
            ],
            "type": "surface"
           }
          ],
          "table": [
           {
            "cells": {
             "fill": {
              "color": "#EBF0F8"
             },
             "line": {
              "color": "white"
             }
            },
            "header": {
             "fill": {
              "color": "#C8D4E3"
             },
             "line": {
              "color": "white"
             }
            },
            "type": "table"
           }
          ]
         },
         "layout": {
          "annotationdefaults": {
           "arrowcolor": "#2a3f5f",
           "arrowhead": 0,
           "arrowwidth": 1
          },
          "autotypenumbers": "strict",
          "coloraxis": {
           "colorbar": {
            "outlinewidth": 0,
            "ticks": ""
           }
          },
          "colorscale": {
           "diverging": [
            [
             0,
             "#8e0152"
            ],
            [
             0.1,
             "#c51b7d"
            ],
            [
             0.2,
             "#de77ae"
            ],
            [
             0.3,
             "#f1b6da"
            ],
            [
             0.4,
             "#fde0ef"
            ],
            [
             0.5,
             "#f7f7f7"
            ],
            [
             0.6,
             "#e6f5d0"
            ],
            [
             0.7,
             "#b8e186"
            ],
            [
             0.8,
             "#7fbc41"
            ],
            [
             0.9,
             "#4d9221"
            ],
            [
             1,
             "#276419"
            ]
           ],
           "sequential": [
            [
             0,
             "#0d0887"
            ],
            [
             0.1111111111111111,
             "#46039f"
            ],
            [
             0.2222222222222222,
             "#7201a8"
            ],
            [
             0.3333333333333333,
             "#9c179e"
            ],
            [
             0.4444444444444444,
             "#bd3786"
            ],
            [
             0.5555555555555556,
             "#d8576b"
            ],
            [
             0.6666666666666666,
             "#ed7953"
            ],
            [
             0.7777777777777778,
             "#fb9f3a"
            ],
            [
             0.8888888888888888,
             "#fdca26"
            ],
            [
             1,
             "#f0f921"
            ]
           ],
           "sequentialminus": [
            [
             0,
             "#0d0887"
            ],
            [
             0.1111111111111111,
             "#46039f"
            ],
            [
             0.2222222222222222,
             "#7201a8"
            ],
            [
             0.3333333333333333,
             "#9c179e"
            ],
            [
             0.4444444444444444,
             "#bd3786"
            ],
            [
             0.5555555555555556,
             "#d8576b"
            ],
            [
             0.6666666666666666,
             "#ed7953"
            ],
            [
             0.7777777777777778,
             "#fb9f3a"
            ],
            [
             0.8888888888888888,
             "#fdca26"
            ],
            [
             1,
             "#f0f921"
            ]
           ]
          },
          "colorway": [
           "#636efa",
           "#EF553B",
           "#00cc96",
           "#ab63fa",
           "#FFA15A",
           "#19d3f3",
           "#FF6692",
           "#B6E880",
           "#FF97FF",
           "#FECB52"
          ],
          "font": {
           "color": "#2a3f5f"
          },
          "geo": {
           "bgcolor": "white",
           "lakecolor": "white",
           "landcolor": "#E5ECF6",
           "showlakes": true,
           "showland": true,
           "subunitcolor": "white"
          },
          "hoverlabel": {
           "align": "left"
          },
          "hovermode": "closest",
          "mapbox": {
           "style": "light"
          },
          "paper_bgcolor": "white",
          "plot_bgcolor": "#E5ECF6",
          "polar": {
           "angularaxis": {
            "gridcolor": "white",
            "linecolor": "white",
            "ticks": ""
           },
           "bgcolor": "#E5ECF6",
           "radialaxis": {
            "gridcolor": "white",
            "linecolor": "white",
            "ticks": ""
           }
          },
          "scene": {
           "xaxis": {
            "backgroundcolor": "#E5ECF6",
            "gridcolor": "white",
            "gridwidth": 2,
            "linecolor": "white",
            "showbackground": true,
            "ticks": "",
            "zerolinecolor": "white"
           },
           "yaxis": {
            "backgroundcolor": "#E5ECF6",
            "gridcolor": "white",
            "gridwidth": 2,
            "linecolor": "white",
            "showbackground": true,
            "ticks": "",
            "zerolinecolor": "white"
           },
           "zaxis": {
            "backgroundcolor": "#E5ECF6",
            "gridcolor": "white",
            "gridwidth": 2,
            "linecolor": "white",
            "showbackground": true,
            "ticks": "",
            "zerolinecolor": "white"
           }
          },
          "shapedefaults": {
           "line": {
            "color": "#2a3f5f"
           }
          },
          "ternary": {
           "aaxis": {
            "gridcolor": "white",
            "linecolor": "white",
            "ticks": ""
           },
           "baxis": {
            "gridcolor": "white",
            "linecolor": "white",
            "ticks": ""
           },
           "bgcolor": "#E5ECF6",
           "caxis": {
            "gridcolor": "white",
            "linecolor": "white",
            "ticks": ""
           }
          },
          "title": {
           "x": 0.05
          },
          "xaxis": {
           "automargin": true,
           "gridcolor": "white",
           "linecolor": "white",
           "ticks": "",
           "title": {
            "standoff": 15
           },
           "zerolinecolor": "white",
           "zerolinewidth": 2
          },
          "yaxis": {
           "automargin": true,
           "gridcolor": "white",
           "linecolor": "white",
           "ticks": "",
           "title": {
            "standoff": 15
           },
           "zerolinecolor": "white",
           "zerolinewidth": 2
          }
         }
        },
        "title": {
         "text": "LinAge2 (M) — feature contributions"
        },
        "width": 1600,
        "xaxis": {
         "anchor": "y",
         "domain": [
          0,
          1
         ],
         "title": {
          "text": "contribution_years"
         }
        },
        "yaxis": {
         "anchor": "x",
         "domain": [
          0,
          1
         ],
         "dtick": 1,
         "title": {
          "text": "feature"
         }
        }
       }
      },
      "image/png": "[encoded data removed]"
     },
     "metadata": {},
     "output_type": "display_data"
    }
   ],
   "source": [
    "# Assume you already have:\n",
    "#   Z_centered, w_feature_years, feature_names, term_age\n",
    "#   and nhanes_desc = {...}  # from the dict I gave you\n",
    "\n",
    "subject_idx=1\n",
    "\n",
    "fig = plot_feature_contribs_interactive_np(\n",
    "    Z_centered,\n",
    "    w_feature_years,\n",
    "    dataMat_user,\n",
    "    feature_names,\n",
    "    subject_idx=subject_idx,\n",
    "    title=\"LinAge2 (M) — feature contributions\",\n",
    "    term_age=float(term_age[subject_idx]) if hasattr(term_age, \"__getitem__\") else term_age,\n",
    "    descriptions=nhanes_desc\n",
    ")\n",
    "fig.show()\n"
   ]
  },
  {
   "cell_type": "code",
   "execution_count": 110,
   "id": "ae996ccd-e459-42f5-a5ba-ee09565531c5",
   "metadata": {},
   "outputs": [],
   "source": [
    "fig.write_html('figure_example.html', include_plotlyjs=\"cdn\", full_html=True)"
   ]
  },
  {
   "cell_type": "code",
   "execution_count": null,
   "id": "739fffa5-6c5b-41f4-85fd-8f713736cd37",
   "metadata": {},
   "outputs": [],
   "source": []
  }
 ],
 "metadata": {
  "kernelspec": {
   "display_name": "Python 3 (ipykernel)",
   "language": "python",
   "name": "python3"
  },
  "language_info": {
   "codemirror_mode": {
    "name": "ipython",
    "version": 3
   },
   "file_extension": ".py",
   "mimetype": "text/x-python",
   "name": "python",
   "nbconvert_exporter": "python",
   "pygments_lexer": "ipython3",
   "version": "3.10.17"
  }
 },
 "nbformat": 4,
 "nbformat_minor": 5
}
